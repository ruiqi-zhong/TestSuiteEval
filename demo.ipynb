{
 "cells": [
  {
   "cell_type": "markdown",
   "metadata": {},
   "source": [
    "This notebook includes examples of how to use some core operations defined in our paper."
   ]
  },
  {
   "cell_type": "markdown",
   "metadata": {},
   "source": [
    "## Warmup"
   ]
  },
  {
   "cell_type": "code",
   "execution_count": 1,
   "metadata": {},
   "outputs": [],
   "source": [
    "from pprint import pprint"
   ]
  },
  {
   "cell_type": "markdown",
   "metadata": {},
   "source": [
    "database/concert_singer.sqlite contains an sqlite3 database in the original Spider Dataset release. We call this database $o$ and print its basic properties"
   ]
  },
  {
   "cell_type": "code",
   "execution_count": 2,
   "metadata": {},
   "outputs": [],
   "source": [
    "from sql_util.dbinfo import get_all_db_info_path\n",
    "original_database_path = 'database/concert_singer.sqlite'\n",
    "# now we extract information from an sqlite database path\n",
    "table_column2properties, column_references, table_column2elements = get_all_db_info_path(original_database_path)"
   ]
  },
  {
   "cell_type": "markdown",
   "metadata": {},
   "source": [
    "table_column2elements is a dictionary mapping from a table's cololumn name to a list of elements in that column.\n",
    "We print all columns in the \"stadium\" table"
   ]
  },
  {
   "cell_type": "code",
   "execution_count": 3,
   "metadata": {},
   "outputs": [
    {
     "name": "stdout",
     "output_type": "stream",
     "text": [
      "('stadium', 'STADIUM_ID') [1, 2, 3, 4, 5, 6, 7, 9, 10]\n",
      "('stadium', 'LOCATION') ['Raith Rovers', 'Ayr United', 'East Fife', \"Queen's Park\", 'Stirling Albion', 'Arbroath', 'Alloa Athletic', 'Peterhead', 'Brechin City']\n",
      "('stadium', 'NAME') [\"Stark's Park\", 'Somerset Park', 'Bayview Stadium', 'Hampden Park', 'Forthbank Stadium', 'Gayfield Park', 'Recreation Park', 'Balmoor', 'Glebe Park']\n",
      "('stadium', 'CAPACITY') [10104, 11998, 2000, 52500, 3808, 4125, 3100, 4000, 3960]\n",
      "('stadium', 'HIGHEST') [4812, 2363, 1980, 1763, 1125, 921, 1057, 837, 780]\n",
      "('stadium', 'LOWEST') [1294, 1057, 533, 466, 404, 411, 331, 400, 315]\n",
      "('stadium', 'AVERAGE') [2106, 1477, 864, 730, 642, 638, 637, 615, 552]\n"
     ]
    }
   ],
   "source": [
    "for k, v in table_column2elements.items():\n",
    "    if k[0] == 'stadium':\n",
    "        print(k, v)"
   ]
  },
  {
   "cell_type": "markdown",
   "metadata": {},
   "source": [
    "Suppose we have a gold_query $g$ that is associated with the schema of original_database_path $o$"
   ]
  },
  {
   "cell_type": "code",
   "execution_count": 4,
   "metadata": {},
   "outputs": [],
   "source": [
    "gold_query = 'select location from stadium where capacity < 100000 ;'"
   ]
  },
  {
   "cell_type": "markdown",
   "metadata": {},
   "source": [
    "## Section 2: Calculating Denotation Equivalence"
   ]
  },
  {
   "cell_type": "markdown",
   "metadata": {},
   "source": [
    "Now we look at the denotation 􏰑􏰑$[[g]]_{o}$ of gold_query $g$ on the original_database_path (database $o$). "
   ]
  },
  {
   "cell_type": "code",
   "execution_count": 5,
   "metadata": {},
   "outputs": [
    {
     "name": "stdout",
     "output_type": "stream",
     "text": [
      "gold denotation\n",
      "[('Raith Rovers',), ('Ayr United',), ('East Fife',), (\"Queen's Park\",), ('Stirling Albion',), ('Arbroath',), ('Alloa Athletic',), ('Peterhead',), ('Brechin City',)]\n"
     ]
    }
   ],
   "source": [
    "from sql_util.run import exec_db_path\n",
    "gold_flag, gold_denotation = exec_db_path(original_database_path, gold_query)\n",
    "print('gold denotation')\n",
    "print(gold_denotation)"
   ]
  },
  {
   "cell_type": "markdown",
   "metadata": {},
   "source": [
    "A false prediction $q$ = 'select location from stadium ;' will have the same denotation on $o$; hence $o$ fails to distinguish $g$ and $q$. function result_eq compares whether two denotation is equivalent"
   ]
  },
  {
   "cell_type": "code",
   "execution_count": 6,
   "metadata": {},
   "outputs": [
    {
     "name": "stdout",
     "output_type": "stream",
     "text": [
      "same denotation\n"
     ]
    }
   ],
   "source": [
    "q = 'select location from stadium ;'\n",
    "q_flag, q_denotation = exec_db_path(original_database_path, q)\n",
    "from sql_util.eq import result_eq\n",
    "print(\"same\" if result_eq(q_denotation, gold_denotation, order_matters=False) else \"different\", \"denotation\")"
   ]
  },
  {
   "cell_type": "markdown",
   "metadata": {},
   "source": [
    "## Section 3.1: Neighbor Queries $N_{g}$"
   ]
  },
  {
   "cell_type": "markdown",
   "metadata": {},
   "source": [
    "This following function generates the set of neighbor queries $N_{g}$ of the gold_query of $g$.\n",
    "The function takes in the database ($o$) path with schema associated with the gold query $g$ and the gold query $g$ as argument"
   ]
  },
  {
   "cell_type": "code",
   "execution_count": 7,
   "metadata": {
    "scrolled": true
   },
   "outputs": [
    {
     "name": "stdout",
     "output_type": "stream",
     "text": [
      "['select AVERAGE from stadium where capacity < 100000 ;',\n",
      " 'select location from stadium where capacity < -73632 ;',\n",
      " 'select location from stadium where NAME < 100000 ;',\n",
      " 'select location from stadium where100000 ;',\n",
      " 'select location from stadium where 100000 ;',\n",
      " 'select location from stadium ;',\n",
      " 'select location from stadium where AVERAGE < 100000 ;',\n",
      " 'select location from stadium;',\n",
      " 'select CAPACITY from stadium where capacity < 100000 ;',\n",
      " 'select location from stadium where capacity < 99999 ;']\n",
      "There are 40 neighbor queries generated for the gold query.\n"
     ]
    }
   ],
   "source": [
    "from fuzz.neighbor import generate_neighbor_queries_path\n",
    "neighbors = generate_neighbor_queries_path(original_database_path, gold_query)\n",
    "import random\n",
    "random.shuffle(neighbors)\n",
    "pprint(neighbors[:10])\n",
    "print('There are', len(neighbors), 'neighbor queries generated for the gold query.')"
   ]
  },
  {
   "cell_type": "markdown",
   "metadata": {},
   "source": [
    "## Section 4.1: Sampling Databases from $\\mathcal{I}_{g}$"
   ]
  },
  {
   "cell_type": "markdown",
   "metadata": {},
   "source": [
    "The below function randomly generates an sqlite3 database $w$ (a database sample from $\\mathcal{I}_{g}$, defined in Section 4) at \"sampled_database_w_path\" based on the constant used in the gold_query $g$ and the database ($o$) schema associated with the gold_query (original_database_path)."
   ]
  },
  {
   "cell_type": "code",
   "execution_count": 8,
   "metadata": {},
   "outputs": [
    {
     "name": "stdout",
     "output_type": "stream",
     "text": [
      "now fuzzing based on database database/concert_singer.sqlite, target path database/example_generation.sqlite.\n"
     ]
    }
   ],
   "source": [
    "from fuzz.fuzz import generate_random_db_with_queries_wrapper\n",
    "sampled_database_w_path = 'database/example_generation.sqlite'\n",
    "generate_random_db_with_queries_wrapper((original_database_path, sampled_database_w_path, [gold_query], {}))"
   ]
  },
  {
   "cell_type": "markdown",
   "metadata": {},
   "source": [
    "We now look at the capacity column of the stadium table, which should contain close constant variants of 100000, which is used in the gold_query $g$."
   ]
  },
  {
   "cell_type": "code",
   "execution_count": 9,
   "metadata": {},
   "outputs": [
    {
     "name": "stdout",
     "output_type": "stream",
     "text": [
      "[2036384813, 10104, 10103, 3959, 3961]\n"
     ]
    }
   ],
   "source": [
    "table_column2properties, column_references, table_column2elements = get_all_db_info_path(sampled_database_w_path)\n",
    "print(table_column2elements[('stadium', 'CAPACITY')][:5])"
   ]
  },
  {
   "cell_type": "markdown",
   "metadata": {},
   "source": [
    "Now we look at the denotation 􏰑􏰑$[[g]]_{w}$ of gold_query $g$ on the sampled_database_w_path (database $w$)"
   ]
  },
  {
   "cell_type": "code",
   "execution_count": 10,
   "metadata": {},
   "outputs": [
    {
     "name": "stdout",
     "output_type": "stream",
     "text": [
      "gold denotation\n",
      "[('cz4LX0bQbZkH5iEPS0',), ('H691(Fx7bp',), ('Raith Rovers',), ('Raith Rovers',), ('B6k7twptl5I06ySqhO',), ('fyjgGGi',), ('Brechin CityOYYJ)',), ('Brechin City',), ('VaXFMBrechin City',), ('Arbroath',), ('ofvjQW8EPtGDDQ4IhV',), ('Brechin City',), ('Brechin City',), ('hMaArbroathIt4',), ('Raith Rovers',), (\"Queen's Park 5S08\",), ('Brechin Cit',), ('Brechin CityYw 7)',), ('foZ (GC0P',), ('Ou(AsL7wXZz',), ('Brechin City',)]\n"
     ]
    }
   ],
   "source": [
    "from sql_util.run import exec_db_path\n",
    "gold_flag, gold_denotation = exec_db_path(sampled_database_w_path, gold_query)\n",
    "print('gold denotation')\n",
    "print(gold_denotation)"
   ]
  },
  {
   "cell_type": "markdown",
   "metadata": {},
   "source": [
    "$w$ should be able to distinguish $g$ and $q$."
   ]
  },
  {
   "cell_type": "code",
   "execution_count": 11,
   "metadata": {},
   "outputs": [
    {
     "name": "stdout",
     "output_type": "stream",
     "text": [
      "different denotation\n"
     ]
    }
   ],
   "source": [
    "q_flag, q_denotation = exec_db_path(sampled_database_w_path, q)\n",
    "print(\"same \" if result_eq(q_denotation, gold_denotation, order_matters=False) else \"different\", \"denotation\")"
   ]
  },
  {
   "cell_type": "markdown",
   "metadata": {},
   "source": [
    "## Section 4.2 Constructing $S_{g}$"
   ]
  },
  {
   "cell_type": "markdown",
   "metadata": {},
   "source": [
    "Now we greedily construct a testsuite $S_{g}$ that can distinguish all the neighbor queries. This algorhtm can also be seen in the Appendix A.1"
   ]
  },
  {
   "cell_type": "code",
   "execution_count": 12,
   "metadata": {},
   "outputs": [
    {
     "name": "stdout",
     "output_type": "stream",
     "text": [
      "now fuzzing based on database database/concert_singer.sqlite, target path database/db0.sqlite.\n",
      "now fuzzing based on database database/concert_singer.sqlite, target path database/db1.sqlite.\n",
      "databases in the test suite\n",
      "{'database/db1.sqlite', 'database/db0.sqlite'}\n"
     ]
    }
   ],
   "source": [
    "# the set of neighbors that have not been distinguished\n",
    "undistinguished_neighbors = set(neighbors)\n",
    "testsuite = set()\n",
    "T = 1000\n",
    "for t in range(T):\n",
    "    # stop the algorithm when all the neighbors have been distinguished\n",
    "    if len(undistinguished_neighbors) == 0:\n",
    "        break\n",
    "    # randomly sample a database based in the gold query and the database sechema associated with the query\n",
    "    sampled_database_w_path = 'database/db%d.sqlite' % t\n",
    "    generate_random_db_with_queries_wrapper((original_database_path, sampled_database_w_path, [gold_query], {}))\n",
    "    \n",
    "    # check whether the sampled database can distinguish the gold from the neighbor\n",
    "    for u in set(undistinguished_neighbors):\n",
    "        gold_flag, gold_denotation = exec_db_path(sampled_database_w_path, gold_query)\n",
    "        u_flag, u_denotation = exec_db_path(sampled_database_w_path, u)\n",
    "        # add the database path to the test suite if it can distinguish a neighbor from the gold\n",
    "        if not result_eq(gold_denotation, u_denotation, order_matters=False):\n",
    "            undistinguished_neighbors.remove(u)\n",
    "            testsuite.add(sampled_database_w_path)\n",
    "\n",
    "# Note: the gold query is not very complicated, so it does not need a lot of samples to distinguish all neighbors\n",
    "print('databases in the test suite')\n",
    "print(testsuite)"
   ]
  }
 ],
 "metadata": {
  "kernelspec": {
   "display_name": "Python 3",
   "language": "python",
   "name": "python3"
  },
  "language_info": {
   "codemirror_mode": {
    "name": "ipython",
    "version": 3
   },
   "file_extension": ".py",
   "mimetype": "text/x-python",
   "name": "python",
   "nbconvert_exporter": "python",
   "pygments_lexer": "ipython3",
   "version": "3.7.4"
  }
 },
 "nbformat": 4,
 "nbformat_minor": 2
}
